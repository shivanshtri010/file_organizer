{
 "cells": [
  {
   "cell_type": "code",
   "execution_count": 1,
   "id": "d3123440",
   "metadata": {},
   "outputs": [
    {
     "name": "stdout",
     "output_type": "stream",
     "text": [
      "File organization completed.\n"
     ]
    }
   ],
   "source": [
    "import os\n",
    "import shutil\n",
    "\n",
    "def organize_files(source_folder, categories):\n",
    "    for category, extensions in categories.items():\n",
    "        folder_path = os.path.join(source_folder, category)\n",
    "        os.makedirs(folder_path, exist_ok=True)\n",
    "\n",
    "    miscellaneous_folder = os.path.join(source_folder, \"Miscellaneous\")\n",
    "    os.makedirs(miscellaneous_folder, exist_ok=True)\n",
    "\n",
    "    for root, dirs, files in os.walk(source_folder):\n",
    "        for file in files:\n",
    "            file_extension = os.path.splitext(file)[-1].lower()\n",
    "            moved = False\n",
    "\n",
    "            for category, extensions in categories.items():\n",
    "                if file_extension in extensions:\n",
    "                    source_path = os.path.join(root, file)\n",
    "                    destination_path = os.path.join(source_folder, category, file)\n",
    "                    shutil.move(source_path, destination_path)\n",
    "                    moved = True\n",
    "                    break\n",
    "\n",
    "            if not moved:\n",
    "                source_path = os.path.join(root, file)\n",
    "                destination_path = os.path.join(source_folder, \"Miscellaneous\", file)\n",
    "                shutil.move(source_path, destination_path)\n",
    "\n",
    "if __name__ == \"__main__\":\n",
    "    source_directory = r\"C:\\Users\\Shivansh Tripathi\\check\"  # Replace with your source folder path\n",
    "    categories = {\n",
    "        \"Documents\": [\".pdf\", \".docx\", \".xlsx\", \".txt\", \".odt\", \".rtf\"],\n",
    "        \"Programming\": [\".c\", \".cpp\", \".py\", \".java\", \".html\", \".css\", \".js\", \".rb\", \".ipynb\"],\n",
    "        \"Images\": [\".jpeg\", \".png\", \".jpg\", \".gif\", \".bmp\", \".tiff\"],\n",
    "        \"Audio\": [\".mp3\", \".wav\", \".flac\", \".aac\", \".ogg\"],\n",
    "        \"Videos\": [\".mp4\", \".3gp\", \".mkv\", \".avi\", \".mov\", \".wmv\"],\n",
    "        \"Compressed\": [\".zip\", \".rar\", \".7z\", \".tar\", \".gz\"],\n",
    "        \"Executables\": [\".exe\", \".msi\", \".bat\"],\n",
    "        \"Spreadsheets\": [\".xls\", \".xlsx\", \".csv\", \".ods\"],\n",
    "        \"Presentations\": [\".ppt\", \".key\", \".odp\"],\n",
    "        \"Text\": [\".txt\", \".md\", \".tex\", \".log\"],\n",
    "        \"Web\": [\".html\", \".css\", \".js\", \".php\"],\n",
    "        \"Data\": [\".json\", \".xml\", \".yaml\"],\n",
    "        \"Database\": [\".db\", \".sqlite\", \".sql\"],\n",
    "        \"Ebooks\": [\".epub\", \".mobi\"],\n",
    "        \"GIS\": [\".shp\", \".kml\", \".kmz\"],\n",
    "        \"CAD\": [\".dwg\", \".dxf\"],\n",
    "        \"Fonts\": [\".ttf\", \".otf\"],\n",
    "        \"Virtualization\": [\".vdi\", \".vbox\"],\n",
    "        \"Miscellaneous\": []  # Empty category for miscellaneous files\n",
    "        # Add more categories and extensions as needed\n",
    "    }\n",
    "\n",
    "    organize_files(source_directory, categories)\n",
    "    print(\"File organization completed.\")\n"
   ]
  },
  {
   "cell_type": "code",
   "execution_count": null,
   "id": "521d9403",
   "metadata": {},
   "outputs": [],
   "source": []
  }
 ],
 "metadata": {
  "kernelspec": {
   "display_name": "Python 3 (ipykernel)",
   "language": "python",
   "name": "python3"
  },
  "language_info": {
   "codemirror_mode": {
    "name": "ipython",
    "version": 3
   },
   "file_extension": ".py",
   "mimetype": "text/x-python",
   "name": "python",
   "nbconvert_exporter": "python",
   "pygments_lexer": "ipython3",
   "version": "3.9.13"
  }
 },
 "nbformat": 4,
 "nbformat_minor": 5
}
